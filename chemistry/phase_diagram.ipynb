{
 "cells": [
  {
   "cell_type": "code",
   "execution_count": 1,
   "metadata": {},
   "outputs": [],
   "source": [
    "import cantera as ct\n",
    "import numpy as np"
   ]
  },
  {
   "cell_type": "code",
   "execution_count": 8,
   "metadata": {},
   "outputs": [],
   "source": [
    "file = '/home/vasily/Projects/empirica_traveling_flame/chemistry/mechanisms/deepflame_ethanol_gri_reduced/ethanol66.yaml'"
   ]
  },
  {
   "cell_type": "code",
   "execution_count": 9,
   "metadata": {},
   "outputs": [
    {
     "name": "stderr",
     "output_type": "stream",
     "text": [
      "/tmp/ipykernel_314231/3381750254.py:1: UserWarning: NasaPoly2::validate: \n",
      "For species CH2CH2OH, discontinuity in cp/R detected at Tmid = 1000\n",
      "\tValue computed using low-temperature polynomial:  15.107838949\n",
      "\tValue computed using high-temperature polynomial: 15.385775331099998\n",
      "\n",
      "  sol = ct.Solution(file)\n",
      "/tmp/ipykernel_314231/3381750254.py:1: UserWarning: NasaPoly2::validate: \n",
      "For species CH2CH2OH, discontinuity in h/RT detected at Tmid = 1000\n",
      "\tValue computed using low-temperature polynomial:  4.688575616966668\n",
      "\tValue computed using high-temperature polynomial: 4.64839243407\n",
      "\n",
      "  sol = ct.Solution(file)\n",
      "/tmp/ipykernel_314231/3381750254.py:1: UserWarning: NasaPoly2::validate: \n",
      "For species CH3CHOH, discontinuity in cp/R detected at Tmid = 1000\n",
      "\tValue computed using low-temperature polynomial:  14.825843632999998\n",
      "\tValue computed using high-temperature polynomial: 15.109926177800002\n",
      "\n",
      "  sol = ct.Solution(file)\n",
      "/tmp/ipykernel_314231/3381750254.py:1: UserWarning: NasaPoly2::validate: \n",
      "For species CH3CHOH, discontinuity in h/RT detected at Tmid = 1000\n",
      "\tValue computed using low-temperature polynomial:  3.0540774556000008\n",
      "\tValue computed using high-temperature polynomial: 3.021300267726666\n",
      "\n",
      "  sol = ct.Solution(file)\n",
      "/tmp/ipykernel_314231/3381750254.py:1: UserWarning: NasaPoly2::validate: \n",
      "For species CH3CH2O, discontinuity in cp/R detected at Tmid = 1000\n",
      "\tValue computed using low-temperature polynomial:  15.499063898000003\n",
      "\tValue computed using high-temperature polynomial: 15.745647375699999\n",
      "\n",
      "  sol = ct.Solution(file)\n",
      "/tmp/ipykernel_314231/3381750254.py:1: UserWarning: NasaPoly2::validate: \n",
      "For species CH3CH2O, discontinuity in h/RT detected at Tmid = 1000\n",
      "\tValue computed using low-temperature polynomial:  6.374794050366667\n",
      "\tValue computed using high-temperature polynomial: 6.343761153323333\n",
      "\n",
      "  sol = ct.Solution(file)\n"
     ]
    }
   ],
   "source": [
    "sol = ct.Solution(file)"
   ]
  },
  {
   "cell_type": "code",
   "execution_count": 13,
   "metadata": {},
   "outputs": [],
   "source": [
    "Y_air_N2= 0.767\n",
    "Y_air_O2= 0.233\n",
    "Y_fuel = 0.09\n",
    "\n",
    "\n",
    "# for j, phi in enumerate(phi_list):\n",
    "# print(\"NNNNNNNNNNNNNNNNNNN  \", j)\n",
    "# gas.set_equivalence_ratio(0, 'C2H5OH', {'O2':1, 'N2': 3.76})\n",
    "    # gas.set_equivalence_ratio(phi, 'c2h5oh', {'o2':1, 'n2': 3.76})\n",
    "sol.TPY = 293, 1e5, {\"N2\" : Y_air_N2 * (1-Y_fuel), \"O2\" : Y_air_O2 * (1-Y_fuel), \"C2H5OH\" : Y_fuel} "
   ]
  },
  {
   "cell_type": "code",
   "execution_count": 15,
   "metadata": {},
   "outputs": [],
   "source": [
    "init_TPY = sol.TPY"
   ]
  },
  {
   "cell_type": "code",
   "execution_count": 71,
   "metadata": {},
   "outputs": [],
   "source": [
    "\n",
    "def chem_step(TPY):\n",
    "    sol.TPY =TPY\n",
    "    sol.equilibrate(\"HP\")\n",
    "\n",
    "    # r = ct.IdealGasConstPressureReactor(sol)\n",
    "    # # r = ct.Reactor(name='adiabatic_reactor', contents=gas)\n",
    "    # sim = ct.ReactorNet([r])\n",
    "    # # time = 0.0\n",
    "    # states = ct.SolutionArray(sol, extra=['t'])\n",
    "    # while sim.time < 0.1:\n",
    "    #     # print(sim.time) \n",
    "    #     # if fixed_iter is not None:\n",
    "    #     sim.advance(sim.time + 0.0001)\n",
    "    #     # else:\n",
    "    #     # sim.step()\n",
    "    #     states.append(r.thermo.state, t=sim.time)\n",
    "    #     # print('{:10.3e} {:10.3f} {:10.3f} {:14.6f}'.format(\n",
    "    #     #     sim.time, r.T, r.thermo.P, r.thermo.u))\n",
    "    #     # if rate_tol is not None:\n",
    "    #     #     if states.maxrate[-1] < rate_tol:\n",
    "    #     #         break\n",
    "    #     # if X_eq is not None:\n",
    "    #     #     if np.abs(gas.X - X_eq).sum() < X_eq_tol:\n",
    "        #         break\n",
    "    return sol.TPY\n",
    "    "
   ]
  },
  {
   "cell_type": "code",
   "execution_count": 78,
   "metadata": {},
   "outputs": [],
   "source": [
    "def diff_step(TPY, t, tauT, tauY):\n",
    "    T0, P, Y0 = TPY\n",
    "    T1 = (T0  - init_TPY[0]) * np.exp(-t/tauT) + init_TPY[0]\n",
    "    Y1 = (Y0  - init_TPY[2]) * np.exp(-t/tauY) + init_TPY[2]\n",
    "    return T1, P, Y1"
   ]
  },
  {
   "cell_type": "code",
   "execution_count": 87,
   "metadata": {},
   "outputs": [],
   "source": [
    "TPY = chem_step(init_TPY)\n",
    "# TPY = init_TPY"
   ]
  },
  {
   "cell_type": "code",
   "execution_count": 88,
   "metadata": {},
   "outputs": [
    {
     "data": {
      "text/plain": [
       "(2138.353998748413,\n",
       " 100000.00000000054,\n",
       " array([6.97970000e-01, 0.00000000e+00, 0.00000000e+00, 4.11010138e-06,\n",
       "        2.55544709e-02, 1.88436540e-03, 1.54992283e-04, 5.99899643e-05,\n",
       "        1.04010611e-01, 1.33639737e-06, 2.78570474e-03, 1.67574335e-01,\n",
       "        8.75905144e-11, 2.96518775e-19, 1.19912409e-19, 1.00826596e-12,\n",
       "        5.30144194e-20, 2.96291846e-21, 4.11326472e-30, 5.67140473e-20,\n",
       "        1.92278473e-35, 1.08208960e-36, 8.39974248e-08, 1.40144461e-24,\n",
       "        4.58178220e-30, 1.44338551e-27, 7.11018536e-22, 1.44041554e-18,\n",
       "        1.84922327e-28, 5.48457638e-27, 3.76309981e-36, 2.44136920e-35,\n",
       "        4.86936216e-35, 2.15680019e-37]))"
      ]
     },
     "execution_count": 88,
     "metadata": {},
     "output_type": "execute_result"
    }
   ],
   "source": [
    "TPY"
   ]
  },
  {
   "cell_type": "code",
   "execution_count": 89,
   "metadata": {},
   "outputs": [
    {
     "data": {
      "text/plain": [
       "(np.float64(305.43389743811724),\n",
       " 100000.00000000054,\n",
       " array([6.97970000e-01, 0.00000000e+00, 0.00000000e+00, 2.76936452e-08,\n",
       "        2.10773538e-01, 1.26967542e-05, 1.04432979e-06, 4.04209200e-07,\n",
       "        7.00817983e-04, 9.00457462e-09, 1.87699309e-05, 1.12910699e-03,\n",
       "        5.90180244e-13, 1.99792779e-21, 8.07963454e-22, 6.79364260e-15,\n",
       "        3.57208348e-22, 1.99639875e-23, 2.77149597e-32, 3.82136245e-22,\n",
       "        1.29556216e-37, 7.29106235e-39, 5.65970197e-10, 9.44285953e-27,\n",
       "        3.08718056e-32, 9.72545510e-30, 4.79080521e-24, 9.70544358e-21,\n",
       "        1.24599684e-30, 3.69547850e-29, 8.93935848e-02, 1.64498163e-37,\n",
       "        3.28095042e-37, 1.45324054e-39]))"
      ]
     },
     "execution_count": 89,
     "metadata": {},
     "output_type": "execute_result"
    }
   ],
   "source": [
    "TPY = diff_step(TPY, 5, 1, 1)\n",
    "TPY"
   ]
  },
  {
   "cell_type": "code",
   "execution_count": 92,
   "metadata": {},
   "outputs": [],
   "source": [
    "import copy"
   ]
  },
  {
   "cell_type": "code",
   "execution_count": 134,
   "metadata": {},
   "outputs": [
    {
     "name": "stdout",
     "output_type": "stream",
     "text": [
      "chem step T 2138.353998748413\n",
      "diff step T 1730.1631392692123\n",
      "chem step T 2012.3074002016126\n",
      "diff step T 1631.9979496174772\n",
      "chem step T 1906.8017749818682\n",
      "diff step T 1549.830086077902\n",
      "chem step T 1822.5647898947127\n",
      "diff step T 1484.226256128451\n",
      "chem step T 1756.9732235834895\n",
      "diff step T 1433.1434929223906\n",
      "chem step T 1706.542145061913\n",
      "diff step T 1393.8677294786512\n",
      "chem step T 1668.0275873693975\n",
      "diff step T 1363.8725617880714\n",
      "chem step T 1638.7279604234634\n",
      "diff step T 1341.0539893788778\n",
      "chem step T 1616.492559315607\n",
      "diff step T 1323.7370415841724\n",
      "chem step T 1599.6452803985892\n",
      "diff step T 1310.6163675709768\n",
      "chem step T 1586.8946213914746\n",
      "diff step T 1300.6861443515595\n",
      "chem step T 1577.252041384752\n",
      "diff step T 1293.1764954914952\n",
      "chem step T 1569.9640777842196\n",
      "diff step T 1287.5006237324046\n",
      "chem step T 1564.4580598120729\n",
      "diff step T 1283.2125326240916\n",
      "chem step T 1560.2995772267889\n",
      "diff step T 1279.9739031302834\n",
      "chem step T 1557.1595573573998\n",
      "diff step T 1277.5284531971433\n",
      "chem step T 1554.7889728855278\n",
      "diff step T 1275.6822401541126\n",
      "chem step T 1552.9995099030882\n",
      "diff step T 1274.2886049821113\n",
      "chem step T 1551.6488432675214\n",
      "diff step T 1273.2367047486637\n",
      "chem step T 1550.6294489810687\n",
      "diff step T 1272.4427996801157\n"
     ]
    }
   ],
   "source": [
    "TPYs = []\n",
    "TPY = copy.copy(init_TPY)\n",
    "TPYs.append(init_TPY)\n",
    "for i in range(20):\n",
    "    TPY = chem_step(TPY)\n",
    "    print(\"chem step T\", TPY[0])\n",
    "    TPYs.append(TPY)\n",
    "    TPY = diff_step(TPY, 5, 20, 30)\n",
    "    print(\"diff step T\", TPY[0])\n",
    "    TPYs.append(TPY)\n",
    "\n"
   ]
  },
  {
   "cell_type": "code",
   "execution_count": 135,
   "metadata": {},
   "outputs": [],
   "source": [
    "def calc_Y_r(TPY):\n",
    "    return sum(TPY[2][[sol.species_index(\"C2H5OH\"), sol.species_index(\"O2\")]])"
   ]
  },
  {
   "cell_type": "code",
   "execution_count": 136,
   "metadata": {},
   "outputs": [],
   "source": [
    "Y_rs = [calc_Y_r(TPY) for TPY in TPYs]\n",
    "Ts = [T for T, _, _ in TPYs]"
   ]
  },
  {
   "cell_type": "code",
   "execution_count": 137,
   "metadata": {},
   "outputs": [
    {
     "data": {
      "text/plain": [
       "[<matplotlib.lines.Line2D at 0x7af533a90190>]"
      ]
     },
     "execution_count": 137,
     "metadata": {},
     "output_type": "execute_result"
    },
    {
     "data": {
      "image/png": "[encoded data removed]",
      "text/plain": [
       "<Figure size 640x480 with 1 Axes>"
      ]
     },
     "metadata": {},
     "output_type": "display_data"
    }
   ],
   "source": [
    "plt.plot(Y_rs, Ts)"
   ]
  },
  {
   "cell_type": "code",
   "execution_count": 75,
   "metadata": {},
   "outputs": [
    {
     "data": {
      "text/plain": [
       "np.float64(0.30202999999999997)"
      ]
     },
     "execution_count": 75,
     "metadata": {},
     "output_type": "execute_result"
    }
   ],
   "source": [
    "Y_r"
   ]
  },
  {
   "cell_type": "code",
   "execution_count": 29,
   "metadata": {},
   "outputs": [],
   "source": [
    "import matplotlib.pyplot as plt"
   ]
  },
  {
   "cell_type": "code",
   "execution_count": 26,
   "metadata": {},
   "outputs": [
    {
     "data": {
      "text/plain": [
       "[<matplotlib.lines.Line2D at 0x7af532639a90>]"
      ]
     },
     "execution_count": 26,
     "metadata": {},
     "output_type": "execute_result"
    },
    {
     "data": {
      "image/png": "[encoded data removed]",
      "text/plain": [
       "<Figure size 640x480 with 1 Axes>"
      ]
     },
     "metadata": {},
     "output_type": "display_data"
    }
   ],
   "source": [
    "plt.plot(states.t,  states.T)"
   ]
  },
  {
   "cell_type": "code",
   "execution_count": null,
   "metadata": {},
   "outputs": [],
   "source": []
  },
  {
   "cell_type": "code",
   "execution_count": 10,
   "metadata": {},
   "outputs": [
    {
     "data": {
      "text/plain": [
       "'3.0.1'"
      ]
     },
     "execution_count": 10,
     "metadata": {},
     "output_type": "execute_result"
    }
   ],
   "source": [
    "ct.__version__"
   ]
  },
  {
   "cell_type": "code",
   "execution_count": null,
   "metadata": {},
   "outputs": [],
   "source": [
    "\n"
   ]
  }
 ],
 "metadata": {
  "kernelspec": {
   "display_name": "empirica_traveling_flame",
   "language": "python",
   "name": "python3"
  },
  "language_info": {
   "codemirror_mode": {
    "name": "ipython",
    "version": 3
   },
   "file_extension": ".py",
   "mimetype": "text/x-python",
   "name": "python",
   "nbconvert_exporter": "python",
   "pygments_lexer": "ipython3",
   "version": "3.13.0"
  }
 },
 "nbformat": 4,
 "nbformat_minor": 2
}
