{
 "cells": [
  {
   "cell_type": "code",
   "execution_count": 14,
   "metadata": {},
   "outputs": [],
   "source": [
    "import numpy as np\n",
    "import cantera as ct \n",
    "import matplotlib.pyplot as plt"
   ]
  },
  {
   "cell_type": "code",
   "execution_count": 15,
   "metadata": {},
   "outputs": [],
   "source": [
    "file = '/home/vasily/Projects/empirica_traveling_flame/chemistry/mechanisms/merino_66_mech/Skeletal_66-SD_20161214.yaml'\n"
   ]
  },
  {
   "cell_type": "code",
   "execution_count": 16,
   "metadata": {},
   "outputs": [
    {
     "name": "stderr",
     "output_type": "stream",
     "text": [
      "/tmp/ipykernel_16474/1228782169.py:1: UserWarning: NasaPoly2::validate: \n",
      "For species CH2CH2OH, discontinuity in cp/R detected at Tmid = 1000\n",
      "\tValue computed using low-temperature polynomial:  15.107838949\n",
      "\tValue computed using high-temperature polynomial: 15.385775331099998\n",
      "\n",
      "  sol_mech = ct.Solution(file)\n",
      "/tmp/ipykernel_16474/1228782169.py:1: UserWarning: NasaPoly2::validate: \n",
      "For species CH2CH2OH, discontinuity in h/RT detected at Tmid = 1000\n",
      "\tValue computed using low-temperature polynomial:  4.688575616966668\n",
      "\tValue computed using high-temperature polynomial: 4.64839243407\n",
      "\n",
      "  sol_mech = ct.Solution(file)\n",
      "/tmp/ipykernel_16474/1228782169.py:1: UserWarning: NasaPoly2::validate: \n",
      "For species CH3CHOH, discontinuity in cp/R detected at Tmid = 1000\n",
      "\tValue computed using low-temperature polynomial:  14.825843632999998\n",
      "\tValue computed using high-temperature polynomial: 15.109926177800002\n",
      "\n",
      "  sol_mech = ct.Solution(file)\n",
      "/tmp/ipykernel_16474/1228782169.py:1: UserWarning: NasaPoly2::validate: \n",
      "For species CH3CHOH, discontinuity in h/RT detected at Tmid = 1000\n",
      "\tValue computed using low-temperature polynomial:  3.0540774556000008\n",
      "\tValue computed using high-temperature polynomial: 3.021300267726666\n",
      "\n",
      "  sol_mech = ct.Solution(file)\n",
      "/tmp/ipykernel_16474/1228782169.py:1: UserWarning: NasaPoly2::validate: \n",
      "For species CH3CH2O, discontinuity in cp/R detected at Tmid = 1000\n",
      "\tValue computed using low-temperature polynomial:  15.499063898000003\n",
      "\tValue computed using high-temperature polynomial: 15.745647375699999\n",
      "\n",
      "  sol_mech = ct.Solution(file)\n",
      "/tmp/ipykernel_16474/1228782169.py:1: UserWarning: NasaPoly2::validate: \n",
      "For species CH3CH2O, discontinuity in h/RT detected at Tmid = 1000\n",
      "\tValue computed using low-temperature polynomial:  6.374794050366667\n",
      "\tValue computed using high-temperature polynomial: 6.343761153323333\n",
      "\n",
      "  sol_mech = ct.Solution(file)\n"
     ]
    }
   ],
   "source": [
    "sol_mech = ct.Solution(file)"
   ]
  },
  {
   "cell_type": "code",
   "execution_count": 295,
   "metadata": {},
   "outputs": [],
   "source": []
  },
  {
   "cell_type": "code",
   "execution_count": null,
   "metadata": {},
   "outputs": [],
   "source": []
  },
  {
   "cell_type": "code",
   "execution_count": 296,
   "metadata": {},
   "outputs": [
    {
     "name": "stderr",
     "output_type": "stream",
     "text": [
      "/tmp/ipykernel_16474/952511137.py:1: UserWarning: NasaPoly2::validate: \n",
      "For species CH2CH2OH, discontinuity in cp/R detected at Tmid = 1000\n",
      "\tValue computed using low-temperature polynomial:  15.107838949\n",
      "\tValue computed using high-temperature polynomial: 15.385775331099998\n",
      "\n",
      "  sol_onestep = ct.Solution(thermo='ideal-gas', kinetics='gas',\n",
      "/tmp/ipykernel_16474/952511137.py:1: UserWarning: NasaPoly2::validate: \n",
      "For species CH2CH2OH, discontinuity in h/RT detected at Tmid = 1000\n",
      "\tValue computed using low-temperature polynomial:  4.688575616966668\n",
      "\tValue computed using high-temperature polynomial: 4.64839243407\n",
      "\n",
      "  sol_onestep = ct.Solution(thermo='ideal-gas', kinetics='gas',\n",
      "/tmp/ipykernel_16474/952511137.py:1: UserWarning: NasaPoly2::validate: \n",
      "For species CH3CHOH, discontinuity in cp/R detected at Tmid = 1000\n",
      "\tValue computed using low-temperature polynomial:  14.825843632999998\n",
      "\tValue computed using high-temperature polynomial: 15.109926177800002\n",
      "\n",
      "  sol_onestep = ct.Solution(thermo='ideal-gas', kinetics='gas',\n",
      "/tmp/ipykernel_16474/952511137.py:1: UserWarning: NasaPoly2::validate: \n",
      "For species CH3CHOH, discontinuity in h/RT detected at Tmid = 1000\n",
      "\tValue computed using low-temperature polynomial:  3.0540774556000008\n",
      "\tValue computed using high-temperature polynomial: 3.021300267726666\n",
      "\n",
      "  sol_onestep = ct.Solution(thermo='ideal-gas', kinetics='gas',\n",
      "/tmp/ipykernel_16474/952511137.py:1: UserWarning: NasaPoly2::validate: \n",
      "For species CH3CH2O, discontinuity in cp/R detected at Tmid = 1000\n",
      "\tValue computed using low-temperature polynomial:  15.499063898000003\n",
      "\tValue computed using high-temperature polynomial: 15.745647375699999\n",
      "\n",
      "  sol_onestep = ct.Solution(thermo='ideal-gas', kinetics='gas',\n",
      "/tmp/ipykernel_16474/952511137.py:1: UserWarning: NasaPoly2::validate: \n",
      "For species CH3CH2O, discontinuity in h/RT detected at Tmid = 1000\n",
      "\tValue computed using low-temperature polynomial:  6.374794050366667\n",
      "\tValue computed using high-temperature polynomial: 6.343761153323333\n",
      "\n",
      "  sol_onestep = ct.Solution(thermo='ideal-gas', kinetics='gas',\n"
     ]
    }
   ],
   "source": [
    "# r = ct.Reaction({\"C2H5OH\": 1, \"O2\" : 3}, {\"CO2\" : 2, \"H2O\" : 3}, rate=ct.ArrheniusRate(10000000000000, 0, 100), orders=)\n",
    "\n",
    "r = ct.Reaction(equation=\"C2H5OH + 3 O2 => 2 CO2 + 3 H2O\", rate=ct.ArrheniusRate(1000000000000, 0, 1000000))\n",
    "r.orders={\n",
    "    \"C2H5OH\" : 2,\n",
    "    \"O2\" : 1\n",
    "}\n",
    "sol_onestep = ct.Solution(thermo='ideal-gas', kinetics='gas',\n",
    "                  species=sol_mech.species(), reactions=[r], name='my_custom_name')"
   ]
  },
  {
   "cell_type": "code",
   "execution_count": 307,
   "metadata": {},
   "outputs": [],
   "source": [
    "Y_air_N2= 0.767\n",
    "Y_air_O2= 0.233\n",
    "Y_fuel = 0.02"
   ]
  },
  {
   "cell_type": "code",
   "execution_count": 312,
   "metadata": {},
   "outputs": [],
   "source": [
    "from scipy.stats import qmc"
   ]
  },
  {
   "cell_type": "code",
   "execution_count": 372,
   "metadata": {},
   "outputs": [],
   "source": [
    "rng = np.random.default_rng()\n",
    "\n",
    "radius = 0.2\n",
    "\n",
    "engine = qmc.PoissonDisk(d=2, radius=radius, rng=rng)\n",
    "\n",
    "sample = engine.random(int(1./(radius**4)))\n",
    "\n",
    "TYs = sample.copy()\n",
    "TYs[:, 0] = TYs[:, 0]*400 + 1200\n",
    "TYs[:, 1] = TYs[:, 1]*0.08"
   ]
  },
  {
   "cell_type": "code",
   "execution_count": 373,
   "metadata": {},
   "outputs": [
    {
     "data": {
      "text/plain": [
       "<matplotlib.collections.PathCollection at 0x78650b560050>"
      ]
     },
     "execution_count": 373,
     "metadata": {},
     "output_type": "execute_result"
    },
    {
     "data": {
      "image/png": "[encoded data removed]",
      "text/plain": [
       "<Figure size 640x480 with 1 Axes>"
      ]
     },
     "metadata": {},
     "output_type": "display_data"
    }
   ],
   "source": [
    "plt.scatter(TYs[:, 0], TYs[:, 1])"
   ]
  },
  {
   "cell_type": "code",
   "execution_count": 478,
   "metadata": {},
   "outputs": [],
   "source": [
    "def model(gas, T, Y_fuel):\n",
    "    gas.TPY = T, 1e5, {\"N2\" : Y_air_N2 * (1-Y_fuel), \"O2\" : Y_air_O2 * (1-Y_fuel), \"C2H5OH\" : Y_fuel} \n",
    "    r = ct.IdealGasConstPressureReactor(gas)\n",
    "    # r = ct.Reactor(name='adiabatic_reactor', contents=gas)\n",
    "    sim = ct.ReactorNet([r])\n",
    "    # time = 0.0\n",
    "    states = ct.SolutionArray(gas, extra=['t', 'maxrate'])\n",
    "    max_sim_time = 0.01\n",
    "    while sim.time < max_sim_time:\n",
    "        # print(sim.time) \n",
    "        # if fixed_iter is not None:\n",
    "        #     sim.advance(sim.time + (max_sim_time/fixed_iter))\n",
    "        # else:\n",
    "        sim.step()\n",
    "        states.append(r.thermo.state, t=sim.time, maxrate=np.max(np.abs(gas.net_production_rates)))\n",
    "    return states"
   ]
  },
  {
   "cell_type": "code",
   "execution_count": 479,
   "metadata": {},
   "outputs": [],
   "source": [
    "states_m_TY = []\n",
    "for T, Y_fuel in TYs:\n",
    "    states_m_TY.append(model(sol_mech, T, Y_fuel))"
   ]
  },
  {
   "cell_type": "code",
   "execution_count": 480,
   "metadata": {},
   "outputs": [],
   "source": [
    "def err_func(x):\n",
    "    lnA, lnE = x\n",
    "    r = ct.Reaction(equation=\"C2H5OH + 3 O2 => 2 CO2 + 3 H2O\", rate=ct.ArrheniusRate(np.exp(lnA), 0, np.exp(lnE)))\n",
    "    r.orders={\n",
    "        \"C2H5OH\" : 2,\n",
    "        \"O2\" : 1\n",
    "    }\n",
    "    sol_onestep = ct.Solution(thermo='ideal-gas', kinetics='gas',\n",
    "                    species=sol_mech.species(), reactions=[r], name='my_custom_name')\n",
    "    err = 0\n",
    "    # states_m_TY = []\n",
    "    for i, (T, Y_fuel) in enumerate(TYs):\n",
    "        state = model(sol_onestep, T, Y_fuel)\n",
    "        err +=  np.mean(np.power(np.interp(states_m_TY[i].t, state.t, state.T), 2) - states_m_TY[i].T)\n",
    "        \n",
    "    return np.sqrt(err / len(TYs))"
   ]
  },
  {
   "cell_type": "code",
   "execution_count": 481,
   "metadata": {},
   "outputs": [],
   "source": [
    "init = np.log(1000000000000), np.log(100000)"
   ]
  },
  {
   "cell_type": "code",
   "execution_count": 482,
   "metadata": {},
   "outputs": [],
   "source": [
    "import scipy.optimize"
   ]
  },
  {
   "cell_type": "code",
   "execution_count": 483,
   "metadata": {},
   "outputs": [
    {
     "name": "stderr",
     "output_type": "stream",
     "text": [
      "/tmp/ipykernel_16474/545943440.py:8: UserWarning: NasaPoly2::validate: \n",
      "For species CH2CH2OH, discontinuity in cp/R detected at Tmid = 1000\n",
      "\tValue computed using low-temperature polynomial:  15.107838949\n",
      "\tValue computed using high-temperature polynomial: 15.385775331099998\n",
      "\n",
      "  sol_onestep = ct.Solution(thermo='ideal-gas', kinetics='gas',\n",
      "/tmp/ipykernel_16474/545943440.py:8: UserWarning: NasaPoly2::validate: \n",
      "For species CH2CH2OH, discontinuity in h/RT detected at Tmid = 1000\n",
      "\tValue computed using low-temperature polynomial:  4.688575616966668\n",
      "\tValue computed using high-temperature polynomial: 4.64839243407\n",
      "\n",
      "  sol_onestep = ct.Solution(thermo='ideal-gas', kinetics='gas',\n",
      "/tmp/ipykernel_16474/545943440.py:8: UserWarning: NasaPoly2::validate: \n",
      "For species CH3CHOH, discontinuity in cp/R detected at Tmid = 1000\n",
      "\tValue computed using low-temperature polynomial:  14.825843632999998\n",
      "\tValue computed using high-temperature polynomial: 15.109926177800002\n",
      "\n",
      "  sol_onestep = ct.Solution(thermo='ideal-gas', kinetics='gas',\n",
      "/tmp/ipykernel_16474/545943440.py:8: UserWarning: NasaPoly2::validate: \n",
      "For species CH3CHOH, discontinuity in h/RT detected at Tmid = 1000\n",
      "\tValue computed using low-temperature polynomial:  3.0540774556000008\n",
      "\tValue computed using high-temperature polynomial: 3.021300267726666\n",
      "\n",
      "  sol_onestep = ct.Solution(thermo='ideal-gas', kinetics='gas',\n",
      "/tmp/ipykernel_16474/545943440.py:8: UserWarning: NasaPoly2::validate: \n",
      "For species CH3CH2O, discontinuity in cp/R detected at Tmid = 1000\n",
      "\tValue computed using low-temperature polynomial:  15.499063898000003\n",
      "\tValue computed using high-temperature polynomial: 15.745647375699999\n",
      "\n",
      "  sol_onestep = ct.Solution(thermo='ideal-gas', kinetics='gas',\n",
      "/tmp/ipykernel_16474/545943440.py:8: UserWarning: NasaPoly2::validate: \n",
      "For species CH3CH2O, discontinuity in h/RT detected at Tmid = 1000\n",
      "\tValue computed using low-temperature polynomial:  6.374794050366667\n",
      "\tValue computed using high-temperature polynomial: 6.343761153323333\n",
      "\n",
      "  sol_onestep = ct.Solution(thermo='ideal-gas', kinetics='gas',\n",
      "/tmp/ipykernel_16474/545943440.py:8: UserWarning: NasaPoly2::validate: \n",
      "For species CH2CH2OH, discontinuity in cp/R detected at Tmid = 1000\n",
      "\tValue computed using low-temperature polynomial:  15.107838949\n",
      "\tValue computed using high-temperature polynomial: 15.385775331099998\n",
      "\n",
      "  sol_onestep = ct.Solution(thermo='ideal-gas', kinetics='gas',\n",
      "/tmp/ipykernel_16474/545943440.py:8: UserWarning: NasaPoly2::validate: \n",
      "For species CH2CH2OH, discontinuity in h/RT detected at Tmid = 1000\n",
      "\tValue computed using low-temperature polynomial:  4.688575616966668\n",
      "\tValue computed using high-temperature polynomial: 4.64839243407\n",
      "\n",
      "  sol_onestep = ct.Solution(thermo='ideal-gas', kinetics='gas',\n",
      "/tmp/ipykernel_16474/545943440.py:8: UserWarning: NasaPoly2::validate: \n",
      "For species CH3CHOH, discontinuity in cp/R detected at Tmid = 1000\n",
      "\tValue computed using low-temperature polynomial:  14.825843632999998\n",
      "\tValue computed using high-temperature polynomial: 15.109926177800002\n",
      "\n",
      "  sol_onestep = ct.Solution(thermo='ideal-gas', kinetics='gas',\n",
      "/tmp/ipykernel_16474/545943440.py:8: UserWarning: NasaPoly2::validate: \n",
      "For species CH3CHOH, discontinuity in h/RT detected at Tmid = 1000\n",
      "\tValue computed using low-temperature polynomial:  3.0540774556000008\n",
      "\tValue computed using high-temperature polynomial: 3.021300267726666\n",
      "\n",
      "  sol_onestep = ct.Solution(thermo='ideal-gas', kinetics='gas',\n",
      "/tmp/ipykernel_16474/545943440.py:8: UserWarning: NasaPoly2::validate: \n",
      "For species CH3CH2O, discontinuity in cp/R detected at Tmid = 1000\n",
      "\tValue computed using low-temperature polynomial:  15.499063898000003\n",
      "\tValue computed using high-temperature polynomial: 15.745647375699999\n",
      "\n",
      "  sol_onestep = ct.Solution(thermo='ideal-gas', kinetics='gas',\n",
      "/tmp/ipykernel_16474/545943440.py:8: UserWarning: NasaPoly2::validate: \n",
      "For species CH3CH2O, discontinuity in h/RT detected at Tmid = 1000\n",
      "\tValue computed using low-temperature polynomial:  6.374794050366667\n",
      "\tValue computed using high-temperature polynomial: 6.343761153323333\n",
      "\n",
      "  sol_onestep = ct.Solution(thermo='ideal-gas', kinetics='gas',\n"
     ]
    }
   ],
   "source": [
    "sol = scipy.optimize.minimize(err_func, init, \n",
    "                              tol=1e-10, \n",
    "                            #   method=\"Nelder-Mead\"\n",
    "                              )"
   ]
  },
  {
   "cell_type": "code",
   "execution_count": 484,
   "metadata": {},
   "outputs": [
    {
     "data": {
      "text/plain": [
       "array([27.63102112, 11.51292546])"
      ]
     },
     "execution_count": 484,
     "metadata": {},
     "output_type": "execute_result"
    }
   ],
   "source": [
    "sol.x"
   ]
  },
  {
   "cell_type": "code",
   "execution_count": 485,
   "metadata": {},
   "outputs": [
    {
     "data": {
      "text/plain": [
       "  message: Desired error not necessarily achieved due to precision loss.\n",
       "  success: False\n",
       "   status: 2\n",
       "      fun: 2154.9094483849735\n",
       "        x: [ 2.763e+01  1.151e+01]\n",
       "      nit: 0\n",
       "      jac: [ 5.097e+01 -8.812e-01]\n",
       " hess_inv: [[1 0]\n",
       "            [0 1]]\n",
       "     nfev: 71\n",
       "     njev: 20"
      ]
     },
     "execution_count": 485,
     "metadata": {},
     "output_type": "execute_result"
    }
   ],
   "source": [
    "sol"
   ]
  },
  {
   "cell_type": "code",
   "execution_count": 486,
   "metadata": {},
   "outputs": [
    {
     "data": {
      "text/plain": [
       "(np.float64(27.631021115928547), np.float64(11.512925464970229))"
      ]
     },
     "execution_count": 486,
     "metadata": {},
     "output_type": "execute_result"
    }
   ],
   "source": [
    "init"
   ]
  },
  {
   "cell_type": "code",
   "execution_count": 487,
   "metadata": {},
   "outputs": [
    {
     "name": "stderr",
     "output_type": "stream",
     "text": [
      "/tmp/ipykernel_16474/4217686234.py:7: UserWarning: NasaPoly2::validate: \n",
      "For species CH2CH2OH, discontinuity in cp/R detected at Tmid = 1000\n",
      "\tValue computed using low-temperature polynomial:  15.107838949\n",
      "\tValue computed using high-temperature polynomial: 15.385775331099998\n",
      "\n",
      "  sol_onestep = ct.Solution(thermo='ideal-gas', kinetics='gas',\n",
      "/tmp/ipykernel_16474/4217686234.py:7: UserWarning: NasaPoly2::validate: \n",
      "For species CH2CH2OH, discontinuity in h/RT detected at Tmid = 1000\n",
      "\tValue computed using low-temperature polynomial:  4.688575616966668\n",
      "\tValue computed using high-temperature polynomial: 4.64839243407\n",
      "\n",
      "  sol_onestep = ct.Solution(thermo='ideal-gas', kinetics='gas',\n",
      "/tmp/ipykernel_16474/4217686234.py:7: UserWarning: NasaPoly2::validate: \n",
      "For species CH3CHOH, discontinuity in cp/R detected at Tmid = 1000\n",
      "\tValue computed using low-temperature polynomial:  14.825843632999998\n",
      "\tValue computed using high-temperature polynomial: 15.109926177800002\n",
      "\n",
      "  sol_onestep = ct.Solution(thermo='ideal-gas', kinetics='gas',\n",
      "/tmp/ipykernel_16474/4217686234.py:7: UserWarning: NasaPoly2::validate: \n",
      "For species CH3CHOH, discontinuity in h/RT detected at Tmid = 1000\n",
      "\tValue computed using low-temperature polynomial:  3.0540774556000008\n",
      "\tValue computed using high-temperature polynomial: 3.021300267726666\n",
      "\n",
      "  sol_onestep = ct.Solution(thermo='ideal-gas', kinetics='gas',\n",
      "/tmp/ipykernel_16474/4217686234.py:7: UserWarning: NasaPoly2::validate: \n",
      "For species CH3CH2O, discontinuity in cp/R detected at Tmid = 1000\n",
      "\tValue computed using low-temperature polynomial:  15.499063898000003\n",
      "\tValue computed using high-temperature polynomial: 15.745647375699999\n",
      "\n",
      "  sol_onestep = ct.Solution(thermo='ideal-gas', kinetics='gas',\n",
      "/tmp/ipykernel_16474/4217686234.py:7: UserWarning: NasaPoly2::validate: \n",
      "For species CH3CH2O, discontinuity in h/RT detected at Tmid = 1000\n",
      "\tValue computed using low-temperature polynomial:  6.374794050366667\n",
      "\tValue computed using high-temperature polynomial: 6.343761153323333\n",
      "\n",
      "  sol_onestep = ct.Solution(thermo='ideal-gas', kinetics='gas',\n"
     ]
    }
   ],
   "source": [
    "lnA, lnE = sol.x\n",
    "r = ct.Reaction(equation=\"C2H5OH + 3 O2 => 2 CO2 + 3 H2O\", rate=ct.ArrheniusRate(np.exp(lnA), 0, np.exp(lnE)))\n",
    "r.orders={\n",
    "    \"C2H5OH\" : 2,\n",
    "    \"O2\" : 1\n",
    "}\n",
    "sol_onestep = ct.Solution(thermo='ideal-gas', kinetics='gas',\n",
    "                species=sol_mech.species(), reactions=[r], name='my_custom_name')"
   ]
  },
  {
   "cell_type": "code",
   "execution_count": 490,
   "metadata": {},
   "outputs": [],
   "source": [
    "T = 1800\n",
    "states_m = model(sol_mech, T, Y_fuel)\n",
    "states_os = model(sol_onestep, T, Y_fuel)"
   ]
  },
  {
   "cell_type": "code",
   "execution_count": null,
   "metadata": {},
   "outputs": [],
   "source": []
  },
  {
   "cell_type": "code",
   "execution_count": 491,
   "metadata": {},
   "outputs": [
    {
     "data": {
      "text/plain": [
       "<matplotlib.legend.Legend at 0x7864fbd66710>"
      ]
     },
     "execution_count": 491,
     "metadata": {},
     "output_type": "execute_result"
    },
    {
     "data": {
      "image/png": "[encoded data removed]",
      "text/plain": [
       "<Figure size 640x480 with 1 Axes>"
      ]
     },
     "metadata": {},
     "output_type": "display_data"
    },
    {
     "data": {
      "image/png": "[encoded data removed]",
      "text/plain": [
       "<Figure size 640x480 with 1 Axes>"
      ]
     },
     "metadata": {},
     "output_type": "display_data"
    }
   ],
   "source": [
    "plt.plot(states_m.t, states_m.T, '--', c=\"r\")\n",
    "plt.plot(states_os.t, states_os.T, c=\"r\")\n",
    "\n",
    "plt.figure()\n",
    "spns = [\"o2\", \"c2h5oh\",  \"co2\", \"co\", \"h2o\"]\n",
    "\n",
    "cs = plt.cm.Dark2(list(range(len(spns))))\n",
    "\n",
    "\n",
    "\n",
    "for j, i in enumerate(spns):\n",
    "    i = str(i).upper()\n",
    "    plt.plot(np.array(states_m.t),  np.array(states_m.Y)[:, sol_mech.species_index(i)], \"--\", label=i, c=cs[j])\n",
    "\n",
    "for j, i in enumerate(spns):\n",
    "    i = str(i).upper()\n",
    "    plt.plot(np.array(states_os.t),  np.array(states_os.Y)[:, sol_onestep.species_index(i)], label=i, c=cs[j])\n",
    "plt.legend()\n"
   ]
  },
  {
   "cell_type": "code",
   "execution_count": null,
   "metadata": {},
   "outputs": [],
   "source": []
  },
  {
   "cell_type": "code",
   "execution_count": null,
   "metadata": {},
   "outputs": [],
   "source": []
  },
  {
   "cell_type": "code",
   "execution_count": null,
   "metadata": {},
   "outputs": [],
   "source": []
  },
  {
   "cell_type": "code",
   "execution_count": null,
   "metadata": {},
   "outputs": [],
   "source": []
  }
 ],
 "metadata": {
  "kernelspec": {
   "display_name": "chem2",
   "language": "python",
   "name": "python3"
  },
  "language_info": {
   "codemirror_mode": {
    "name": "ipython",
    "version": 3
   },
   "file_extension": ".py",
   "mimetype": "text/x-python",
   "name": "python",
   "nbconvert_exporter": "python",
   "pygments_lexer": "ipython3",
   "version": "3.13.1"
  }
 },
 "nbformat": 4,
 "nbformat_minor": 2
}
