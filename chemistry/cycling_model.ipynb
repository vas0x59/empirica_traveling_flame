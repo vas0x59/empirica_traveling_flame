{
 "cells": [
  {
   "cell_type": "code",
   "execution_count": 2,
   "metadata": {},
   "outputs": [],
   "source": [
    "import cantera as ct\n",
    "import numpy as np\n",
    "import pandas as pd"
   ]
  },
  {
   "cell_type": "code",
   "execution_count": 8,
   "metadata": {},
   "outputs": [],
   "source": [
    "file = '/home/vasily/Projects/empirica_traveling_flame/chemistry/mechanisms/merino_66_mech/Skeletal_66-SD_20161214.yaml'\n"
   ]
  },
  {
   "cell_type": "code",
   "execution_count": 9,
   "metadata": {},
   "outputs": [],
   "source": [
    "L = 0.4 * np.pi"
   ]
  },
  {
   "cell_type": "code",
   "execution_count": 10,
   "metadata": {},
   "outputs": [],
   "source": [
    "Y_air_N2= 0.767\n",
    "Y_air_O2= 0.233\n",
    "Y_fuel = 0.045"
   ]
  },
  {
   "cell_type": "code",
   "execution_count": 11,
   "metadata": {},
   "outputs": [],
   "source": [
    "def sim_flame(gas, T, P, Y_fuel):\n",
    "    gas.TPY = T, P,  {\"N2\" : Y_air_N2 * (1-Y_fuel), \"O2\" : Y_air_O2 * (1-Y_fuel), \"C2H5OH\" : Y_fuel} \n",
    "    f=ct.FreeFlame(gas,width=0.4)\n",
    "    # f.set_max_time_step(1000)\n",
    "    f.set_refine_criteria(ratio=3,slope=0.06,curve=0.12)\n",
    "    # f.transport_model='Multi'\n",
    "    f.solve(0,auto=True,refine_grid=True)\n",
    "    return f"
   ]
  },
  {
   "cell_type": "code",
   "execution_count": 12,
   "metadata": {},
   "outputs": [
    {
     "name": "stderr",
     "output_type": "stream",
     "text": [
      "/tmp/ipykernel_1767925/1228782169.py:1: UserWarning: NasaPoly2::validate: \n",
      "For species CH2CH2OH, discontinuity in cp/R detected at Tmid = 1000\n",
      "\tValue computed using low-temperature polynomial:  15.107838949\n",
      "\tValue computed using high-temperature polynomial: 15.385775331099998\n",
      "\n",
      "  sol_mech = ct.Solution(file)\n",
      "/tmp/ipykernel_1767925/1228782169.py:1: UserWarning: NasaPoly2::validate: \n",
      "For species CH2CH2OH, discontinuity in h/RT detected at Tmid = 1000\n",
      "\tValue computed using low-temperature polynomial:  4.688575616966668\n",
      "\tValue computed using high-temperature polynomial: 4.64839243407\n",
      "\n",
      "  sol_mech = ct.Solution(file)\n",
      "/tmp/ipykernel_1767925/1228782169.py:1: UserWarning: NasaPoly2::validate: \n",
      "For species CH3CHOH, discontinuity in cp/R detected at Tmid = 1000\n",
      "\tValue computed using low-temperature polynomial:  14.825843632999998\n",
      "\tValue computed using high-temperature polynomial: 15.109926177800002\n",
      "\n",
      "  sol_mech = ct.Solution(file)\n",
      "/tmp/ipykernel_1767925/1228782169.py:1: UserWarning: NasaPoly2::validate: \n",
      "For species CH3CHOH, discontinuity in h/RT detected at Tmid = 1000\n",
      "\tValue computed using low-temperature polynomial:  3.0540774556000008\n",
      "\tValue computed using high-temperature polynomial: 3.021300267726666\n",
      "\n",
      "  sol_mech = ct.Solution(file)\n",
      "/tmp/ipykernel_1767925/1228782169.py:1: UserWarning: NasaPoly2::validate: \n",
      "For species CH3CH2O, discontinuity in cp/R detected at Tmid = 1000\n",
      "\tValue computed using low-temperature polynomial:  15.499063898000003\n",
      "\tValue computed using high-temperature polynomial: 15.745647375699999\n",
      "\n",
      "  sol_mech = ct.Solution(file)\n",
      "/tmp/ipykernel_1767925/1228782169.py:1: UserWarning: NasaPoly2::validate: \n",
      "For species CH3CH2O, discontinuity in h/RT detected at Tmid = 1000\n",
      "\tValue computed using low-temperature polynomial:  6.374794050366667\n",
      "\tValue computed using high-temperature polynomial: 6.343761153323333\n",
      "\n",
      "  sol_mech = ct.Solution(file)\n"
     ]
    }
   ],
   "source": [
    "sol_mech = ct.Solution(file)"
   ]
  },
  {
   "cell_type": "code",
   "execution_count": 13,
   "metadata": {},
   "outputs": [
    {
     "data": {
      "text/plain": [
       "<cantera.composite.Solution at 0x7cb5e57d9bc0>"
      ]
     },
     "execution_count": 13,
     "metadata": {},
     "output_type": "execute_result"
    }
   ],
   "source": [
    "sim_flame()"
   ]
  },
  {
   "cell_type": "code",
   "execution_count": null,
   "metadata": {},
   "outputs": [],
   "source": []
  }
 ],
 "metadata": {
  "kernelspec": {
   "display_name": "empirica_traveling_flame",
   "language": "python",
   "name": "python3"
  },
  "language_info": {
   "codemirror_mode": {
    "name": "ipython",
    "version": 3
   },
   "file_extension": ".py",
   "mimetype": "text/x-python",
   "name": "python",
   "nbconvert_exporter": "python",
   "pygments_lexer": "ipython3",
   "version": "3.13.0"
  }
 },
 "nbformat": 4,
 "nbformat_minor": 2
}
