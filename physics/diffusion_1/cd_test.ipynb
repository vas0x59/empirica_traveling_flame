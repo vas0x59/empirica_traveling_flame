{
 "cells": [
  {
   "cell_type": "code",
   "execution_count": 1,
   "metadata": {},
   "outputs": [],
   "source": [
    "\n",
    "using Gridap\n",
    "using LinearAlgebra\n",
    "# using Test\n",
    "using Gridap.ODEs, Gridap.Algebra\n"
   ]
  },
  {
   "cell_type": "code",
   "execution_count": 2,
   "metadata": {},
   "outputs": [
    {
     "data": {
      "text/plain": [
       "CartesianDiscreteModel()"
      ]
     },
     "execution_count": 2,
     "metadata": {},
     "output_type": "execute_result"
    }
   ],
   "source": [
    "\n",
    "domain = (0,2)\n",
    "partition = (50)\n",
    "model = CartesianDiscreteModel(domain, partition)\n"
   ]
  },
  {
   "cell_type": "code",
   "execution_count": 3,
   "metadata": {},
   "outputs": [
    {
     "data": {
      "text/plain": [
       "4-element Vector{String}:\n",
       " \"tag_1\"\n",
       " \"tag_2\"\n",
       " \"interior\"\n",
       " \"boundary\""
      ]
     },
     "execution_count": 3,
     "metadata": {},
     "output_type": "execute_result"
    }
   ],
   "source": [
    "model.face_labeling.tag_to_name"
   ]
  },
  {
   "cell_type": "markdown",
   "metadata": {},
   "source": [
    "\n",
    "tag_1\n",
    "n: D n0\n",
    "u: N\n",
    "p: D p0\n",
    " \n",
    "\n",
    "tag_2\n",
    "n: D 0\n",
    "u: D 0\n",
    "p: N\n"
   ]
  },
  {
   "cell_type": "code",
   "execution_count": 4,
   "metadata": {},
   "outputs": [
    {
     "data": {
      "text/plain": [
       "1"
      ]
     },
     "execution_count": 4,
     "metadata": {},
     "output_type": "execute_result"
    }
   ],
   "source": [
    "n0 = 1\n",
    "p0 = 1"
   ]
  },
  {
   "cell_type": "code",
   "execution_count": 5,
   "metadata": {},
   "outputs": [
    {
     "data": {
      "text/plain": [
       "MultiFieldFESpace()"
      ]
     },
     "execution_count": 5,
     "metadata": {},
     "output_type": "execute_result"
    }
   ],
   "source": [
    "order = 1\n",
    "reffe = ReferenceFE(lagrangian, Float64, order)\n",
    "\n",
    "V_n = TestFESpace(model, reffe,\n",
    "conformity=:H1, dirichlet_tags=[\"tag_1\", \"tag_2\"])\n",
    "V_u = TestFESpace(model, reffe,\n",
    "conformity=:H1, dirichlet_tags=[\"tag_2\"])\n",
    "V_p = TestFESpace(model, reffe,\n",
    "conformity=:H1, dirichlet_tags=[\"tag_1\"])\n",
    "\n",
    "g_1n(x) =  n0\n",
    "g_2n(x) = 0.0\n",
    "\n",
    "g_2u(x) =  0.0\n",
    "\n",
    "g_1p(x) =  p0\n",
    "\n",
    "U_n = TrialFESpace(V_n, [g_1n, g_2n])\n",
    "U_u = TrialFESpace(V_u, [g_2u])\n",
    "U_p = TrialFESpace(V_p, [g_1p])\n",
    "\n",
    "\n",
    "X = MultiFieldFESpace([U_n, U_u, U_p])\n",
    "Y = MultiFieldFESpace([V_n, V_u, V_p])"
   ]
  },
  {
   "cell_type": "code",
   "execution_count": 6,
   "metadata": {},
   "outputs": [
    {
     "data": {
      "text/plain": [
       "GenericMeasure()"
      ]
     },
     "execution_count": 6,
     "metadata": {},
     "output_type": "execute_result"
    }
   ],
   "source": [
    "degree = 2*order\n",
    "Ω = Triangulation(model)\n",
    "dΩ = Measure(Ω, degree)\n",
    "# Γ1 = Boundary(model,tags=[\"tag_1\"])\n",
    "# dΓ1 = Measure(Γ1,degree)\n",
    "# Γ2 = Boundary(model,tags=[\"tag_2\"])\n",
    "# dΓ2 = Measure(Γ2,degree)"
   ]
  },
  {
   "cell_type": "code",
   "execution_count": null,
   "metadata": {},
   "outputs": [],
   "source": [
    "n_res((un, uu))\n",
    "\n",
    "res((un,uu,up), (vn,vu,vp)) = ∫()dΩ "
   ]
  }
 ],
 "metadata": {
  "kernelspec": {
   "display_name": "Julia 1.11.0",
   "language": "julia",
   "name": "julia-1.11"
  },
  "language_info": {
   "file_extension": ".jl",
   "mimetype": "application/julia",
   "name": "julia",
   "version": "1.11.0"
  }
 },
 "nbformat": 4,
 "nbformat_minor": 2
}
