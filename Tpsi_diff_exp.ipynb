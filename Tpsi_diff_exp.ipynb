{
 "cells": [
  {
   "cell_type": "code",
   "execution_count": 1,
   "metadata": {},
   "outputs": [],
   "source": [
    "\n",
    "using Gridap\n",
    "using LinearAlgebra\n",
    "# using Test\n",
    "using Gridap.ODEs, Gridap.Algebra\n"
   ]
  },
  {
   "cell_type": "code",
   "execution_count": 86,
   "metadata": {},
   "outputs": [
    {
     "data": {
      "text/plain": [
       "CartesianDiscreteModel()"
      ]
     },
     "execution_count": 86,
     "metadata": {},
     "output_type": "execute_result"
    }
   ],
   "source": [
    "\n",
    "domain = (-1, +1, -1, +1)\n",
    "partition = (50, 50)\n",
    "model = CartesianDiscreteModel(domain, partition)\n"
   ]
  },
  {
   "cell_type": "code",
   "execution_count": 87,
   "metadata": {},
   "outputs": [
    {
     "data": {
      "text/plain": [
       "UnconstrainedFESpace()"
      ]
     },
     "execution_count": 87,
     "metadata": {},
     "output_type": "execute_result"
    }
   ],
   "source": [
    "order = 1\n",
    "reffe = ReferenceFE(lagrangian, Float64, order)\n",
    "\n",
    "V_1 = TestFESpace(model, reffe,\n",
    "conformity=:H1)\n",
    "V_2 = TestFESpace(model, reffe,\n",
    "conformity=:H1)"
   ]
  },
  {
   "cell_type": "code",
   "execution_count": 88,
   "metadata": {},
   "outputs": [
    {
     "data": {
      "text/plain": [
       "TrialFESpace()"
      ]
     },
     "execution_count": 88,
     "metadata": {},
     "output_type": "execute_result"
    }
   ],
   "source": [
    "U_1 = TransientTrialFESpace(V_1)\n",
    "U_2 = TransientTrialFESpace(V_2)"
   ]
  },
  {
   "cell_type": "code",
   "execution_count": 89,
   "metadata": {},
   "outputs": [
    {
     "data": {
      "text/plain": [
       "MultiFieldFESpace()"
      ]
     },
     "execution_count": 89,
     "metadata": {},
     "output_type": "execute_result"
    }
   ],
   "source": [
    "\n",
    "X = TransientMultiFieldFESpace([U_1, U_2])\n",
    "Y = MultiFieldFESpace([V_1, V_2])"
   ]
  },
  {
   "cell_type": "code",
   "execution_count": 90,
   "metadata": {},
   "outputs": [
    {
     "data": {
      "text/plain": [
       "GenericMeasure()"
      ]
     },
     "execution_count": 90,
     "metadata": {},
     "output_type": "execute_result"
    }
   ],
   "source": [
    "degree = 2*order\n",
    "Ω = Triangulation(model)\n",
    "dΩ = Measure(Ω, degree)\n",
    "Γ = Boundary(model,tags=\"boundary\")\n",
    "dΓ = Measure(Γ,degree)"
   ]
  },
  {
   "cell_type": "code",
   "execution_count": 157,
   "metadata": {},
   "outputs": [
    {
     "data": {
      "text/plain": [
       "h (generic function with 1 method)"
      ]
     },
     "execution_count": 157,
     "metadata": {},
     "output_type": "execute_result"
    }
   ],
   "source": [
    "\n",
    "λ_0(t) = x ->  (2 + cos(x[1]/0.5 * 2 * pi)) * 0.1 \n",
    "λ(t, u_other) =  λ_0(t) * (u_other+0.1)\n",
    "f(t) = x -> (0.5 + sin(t*2) ) * exp(-(x[1]^2 + x[2]^2) * 100) \n",
    "h(x) = 0.0"
   ]
  },
  {
   "cell_type": "code",
   "execution_count": 164,
   "metadata": {},
   "outputs": [
    {
     "data": {
      "text/plain": [
       "TransientFEOpFromWeakForm()"
      ]
     },
     "execution_count": 164,
     "metadata": {},
     "output_type": "execute_result"
    }
   ],
   "source": [
    "m(t, dtu, v) = ∫(v * dtu)dΩ\n",
    "a(t, u, v) = ∫(λ_0(t) * ∇(v) ⋅ ∇(u))dΩ\n",
    "b(t, v) =  ∫(v * f(t))dΩ + ∫( v*h )dΓ \n",
    "res(t, (u1, u2), (v1, v2)) = m(t,∂t(u1),v1) + m(t,∂t(u2),v2) + a(t, u1, v1) + a(t, u2, v2) - b(t, v1) - b(t, v2)\n",
    "\n",
    "jac(t,(u1,u2),(du1,du2),(v1,v2)) = a(t, du1, v1) + a(t, du2, v2)\n",
    "jac_t(t,(u1,u2),(du1t,du2t),(v1,v2)) = m(t,du1t,v1) + m(t,du2t,v2)\n",
    "# l(t, v) = \n",
    "op = TransientFEOperator(res, (jac, jac_t), X, Y)"
   ]
  },
  {
   "cell_type": "code",
   "execution_count": 165,
   "metadata": {},
   "outputs": [
    {
     "data": {
      "text/plain": [
       "ThetaMethod()"
      ]
     },
     "execution_count": 165,
     "metadata": {},
     "output_type": "execute_result"
    }
   ],
   "source": [
    "lin_solver = LUSolver()\n",
    "nl_solver = NLSolver(lin_solver, method=:newton, iterations=50, show_trace=false)\n",
    "# nls = NewtonRaphsonSolver(lin_solver,1.0e-6,10)\n",
    "Δt = 0.02\n",
    "θ = 0.5\n",
    "ode_solver = ThetaMethod(nl_solver, Δt, θ)\n",
    "# solver_1 = TransientFESolver(ode_solver)\n",
    "# For a two-stage singly-diagonally-implicit scheme (of order 2), it would be\n",
    "\n",
    "# tableau = :SDIRK_2_2\n",
    "# solver_rk = RungeKutta(nl_solver, lin_solver, Δt, tableau)"
   ]
  },
  {
   "cell_type": "code",
   "execution_count": 166,
   "metadata": {},
   "outputs": [],
   "source": [
    "# ls = LUSolver()\n",
    "# Δt = 0.05\n",
    "# θ = 0.5\n",
    "# solver = ThetaMethod(ls, Δt, θ)\n",
    "# tableau = :SDIRK_2_2\n",
    "# solver_rk = RungeKutta(ls, ls, Δt, tableau)"
   ]
  },
  {
   "cell_type": "code",
   "execution_count": 167,
   "metadata": {},
   "outputs": [
    {
     "data": {
      "text/plain": [
       "u2_0 (generic function with 1 method)"
      ]
     },
     "execution_count": 167,
     "metadata": {},
     "output_type": "execute_result"
    }
   ],
   "source": [
    "u1_0(t) = x -> 0.0\n",
    "u2_0(t) = x -> 0.0"
   ]
  },
  {
   "cell_type": "code",
   "execution_count": 168,
   "metadata": {},
   "outputs": [
    {
     "data": {
      "text/plain": [
       "GenericTransientFESolution()"
      ]
     },
     "execution_count": 168,
     "metadata": {},
     "output_type": "execute_result"
    }
   ],
   "source": [
    "# t0, tF = 0.0, 10.0\n",
    "U10 = U_1(0.0)\n",
    "U20 = U_2(0.0)\n",
    "X0 = X(0.0)\n",
    "u10t(t) = x -> 0.0 * t\n",
    "u10 = TimeSpaceFunction(u10t)\n",
    "u20t(t) = x -> 0.0 * t\n",
    "u20 = TimeSpaceFunction(u20t)\n",
    "\n",
    "u1h0 = interpolate_everywhere(u10(0.0),U10)\n",
    "u2h0 = interpolate_everywhere(u20(0.0),U20)\n",
    "xh0 = interpolate_everywhere([u1h0,u2h0],X0)\n",
    "sol_t = solve(ode_solver, op, 0.0, 10.0, xh0)\n",
    "# for (sl, t) in uh\n",
    "    \n",
    "# end"
   ]
  },
  {
   "cell_type": "code",
   "execution_count": 169,
   "metadata": {},
   "outputs": [
    {
     "data": {
      "text/plain": [
       "52-element Vector{String}:\n",
       " \"results2.pvd\"\n",
       " \"tmp2/results_0.vtu\"\n",
       " \"tmp2/results_0.19999999999999998.vtu\"\n",
       " \"tmp2/results_0.4000000000000001.vtu\"\n",
       " \"tmp2/results_0.6000000000000002.vtu\"\n",
       " \"tmp2/results_0.8000000000000004.vtu\"\n",
       " \"tmp2/results_1.0000000000000004.vtu\"\n",
       " \"tmp2/results_1.2000000000000006.vtu\"\n",
       " \"tmp2/results_1.4000000000000008.vtu\"\n",
       " \"tmp2/results_1.600000000000001.vtu\"\n",
       " \"tmp2/results_1.8000000000000012.vtu\"\n",
       " \"tmp2/results_2.0000000000000013.vtu\"\n",
       " \"tmp2/results_2.2000000000000015.vtu\"\n",
       " ⋮\n",
       " \"tmp2/results_7.799999999999922.vtu\"\n",
       " \"tmp2/results_7.999999999999917.vtu\"\n",
       " \"tmp2/results_8.199999999999914.vtu\"\n",
       " \"tmp2/results_8.39999999999991.vtu\"\n",
       " \"tmp2/results_8.599999999999905.vtu\"\n",
       " \"tmp2/results_8.799999999999901.vtu\"\n",
       " \"tmp2/results_8.999999999999897.vtu\"\n",
       " \"tmp2/results_9.199999999999893.vtu\"\n",
       " \"tmp2/results_9.399999999999888.vtu\"\n",
       " \"tmp2/results_9.599999999999884.vtu\"\n",
       " \"tmp2/results_9.79999999999988.vtu\"\n",
       " \"tmp2/results_9.999999999999876.vtu\""
      ]
     },
     "execution_count": 169,
     "metadata": {},
     "output_type": "execute_result"
    }
   ],
   "source": [
    "if !isdir(\"tmp2\")\n",
    "    mkdir(\"tmp2\")\n",
    "  end\n",
    "  \n",
    "  createpvd(\"results2\") do pvd\n",
    "    pvd[0] = createvtk(Ω, \"tmp2/results_0\" * \".vtu\", cellfields=[\"u1\" => u1h0, \"u2\" => u2h0])\n",
    "    # t = 1\n",
    "    cnt = 1\n",
    "    for (t, sl) in sol_t\n",
    "      # print(item[1])\n",
    "      if cnt % 10 == 0\n",
    "      pvd[t] = createvtk(Ω, \"tmp2/results_$t\" * \".vtu\", cellfields=[\"u1\" => sl[1], \"u2\" => sl[2]])\n",
    "      end\n",
    "      cnt +=1\n",
    "    end\n",
    "  end"
   ]
  },
  {
   "cell_type": "code",
   "execution_count": 76,
   "metadata": {},
   "outputs": [
    {
     "data": {
      "text/plain": [
       "242-element Vector{Float64}:\n",
       " 0.0\n",
       " 0.0\n",
       " 0.0\n",
       " 0.0\n",
       " 0.0\n",
       " 0.0\n",
       " 0.0\n",
       " 0.0\n",
       " 0.0\n",
       " 0.0\n",
       " 0.0\n",
       " 0.0\n",
       " 0.0\n",
       " ⋮\n",
       " 0.0\n",
       " 0.0\n",
       " 0.0\n",
       " 0.0\n",
       " 0.0\n",
       " 0.0\n",
       " 0.0\n",
       " 0.0\n",
       " 0.0\n",
       " 0.0\n",
       " 0.0\n",
       " 0.0"
      ]
     },
     "execution_count": 76,
     "metadata": {},
     "output_type": "execute_result"
    }
   ],
   "source": [
    "uh.odesltn.us0[1]"
   ]
  },
  {
   "cell_type": "code",
   "execution_count": 69,
   "metadata": {},
   "outputs": [
    {
     "data": {
      "text/plain": [
       "TrialFESpace()"
      ]
     },
     "execution_count": 69,
     "metadata": {},
     "output_type": "execute_result"
    }
   ],
   "source": [
    "t"
   ]
  },
  {
   "cell_type": "code",
   "execution_count": 44,
   "metadata": {},
   "outputs": [
    {
     "ename": "LoadError",
     "evalue": "UndefVarError: `each_time_step` not defined in `Gridap.ODEs`\nSuggestion: check for spelling errors or missing imports.",
     "output_type": "error",
     "traceback": [
      "UndefVarError: `each_time_step` not defined in `Gridap.ODEs`\nSuggestion: check for spelling errors or missing imports.",
      "",
      "Stacktrace:",
      " [1] getproperty",
      "   @ ./Base.jl:42 [inlined]",
      " [2] top-level scope",
      "   @ ./In[44]:1"
     ]
    }
   ],
   "source": [
    "for (t, state) in Gridap.ODEs.each_time_step(uh)\n",
    "\n",
    "end"
   ]
  },
  {
   "cell_type": "code",
   "execution_count": 45,
   "metadata": {},
   "outputs": [
    {
     "ename": "LoadError",
     "evalue": "This function belongs to an interface definition and cannot be used.",
     "output_type": "error",
     "traceback": [
      "This function belongs to an interface definition and cannot be used.",
      "",
      "Stacktrace:",
      " [1] error(s::String)",
      "   @ Base ./error.jl:35",
      " [2] macro expansion",
      "   @ ~/.julia/packages/Gridap/aikpb/src/Helpers/Macros.jl:9 [inlined]",
      " [3] allocate_odecache(odeslvr::ThetaMethod, odeop::Gridap.ODEs.ODEOpFromTFEOp{Gridap.ODEs.SemilinearODE}, t0::Float64, us0::Tuple{Vector{Float64}, Vector{Float64}})",
      "   @ Gridap.ODEs ~/.julia/packages/Gridap/aikpb/src/ODEs/ODESolvers.jl:38",
      " [4] iterate(odesltn::Gridap.ODEs.GenericODESolution)",
      "   @ Gridap.ODEs ~/.julia/packages/Gridap/aikpb/src/ODEs/ODESolutions.jl:60",
      " [5] iterate(tfesltn::Gridap.ODEs.GenericTransientFESolution)",
      "   @ Gridap.ODEs ~/.julia/packages/Gridap/aikpb/src/ODEs/TransientFESolutions.jl:75",
      " [6] top-level scope",
      "   @ ./In[45]:1"
     ]
    }
   ],
   "source": [
    "for sol in uh\n",
    "    # Assuming `sol` is a tuple of (time, state)\n",
    "    t, state = sol\n",
    "end"
   ]
  },
  {
   "cell_type": "code",
   "execution_count": 37,
   "metadata": {},
   "outputs": [],
   "source": [
    "# x = get_cell_points(Ω)"
   ]
  },
  {
   "cell_type": "code",
   "execution_count": 46,
   "metadata": {},
   "outputs": [
    {
     "data": {
      "text/html": [
       "# 0 methods for callable object<ul></ul>"
      ],
      "text/plain": [
       "# 0 methods for callable object"
      ]
     },
     "execution_count": 46,
     "metadata": {},
     "output_type": "execute_result"
    }
   ],
   "source": [
    "methods(uh)"
   ]
  },
  {
   "cell_type": "code",
   "execution_count": 56,
   "metadata": {},
   "outputs": [
    {
     "data": {
      "text/plain": [
       "MultiFieldFESpace()"
      ]
     },
     "execution_count": 56,
     "metadata": {},
     "output_type": "execute_result"
    }
   ],
   "source": [
    "unh1, unh2 = uh.trial(0)"
   ]
  },
  {
   "cell_type": "code",
   "execution_count": 62,
   "metadata": {},
   "outputs": [
    {
     "data": {
      "text/plain": [
       "SingleFieldFEBasis():\n",
       " num_cells: 100\n",
       " DomainStyle: ReferenceDomain()\n",
       " Triangulation: BodyFittedTriangulation()\n",
       " Triangulation id: 18393536350112245733"
      ]
     },
     "execution_count": 62,
     "metadata": {},
     "output_type": "execute_result"
    }
   ],
   "source": [
    "# unh1.space.fe_basis"
   ]
  },
  {
   "cell_type": "code",
   "execution_count": 39,
   "metadata": {},
   "outputs": [
    {
     "ename": "LoadError",
     "evalue": "Function get_data is not implemented for MultiFieldCellField at this moment.\nYou need to extract the individual fields and then evaluate them separately.\n\nIf ever implement this, evaluating a `MultiFieldCellField` directly would provide,\nat each evaluation point, a tuple with the value of the different fields.\n",
     "output_type": "error",
     "traceback": [
      "Function get_data is not implemented for MultiFieldCellField at this moment.\nYou need to extract the individual fields and then evaluate them separately.\n\nIf ever implement this, evaluating a `MultiFieldCellField` directly would provide,\nat each evaluation point, a tuple with the value of the different fields.\n",
      "",
      "Stacktrace:",
      "  [1] error(s::String)",
      "    @ Base ./error.jl:35",
      "  [2] macro expansion",
      "    @ ~/.julia/packages/Gridap/aikpb/src/Helpers/Macros.jl:21 [inlined]",
      "  [3] get_data(f::Gridap.MultiField.MultiFieldCellField{ReferenceDomain})",
      "    @ Gridap.MultiField ~/.julia/packages/Gridap/aikpb/src/MultiField/MultiFieldCellFields.jl:28",
      "  [4] evaluate!(cache::Nothing, f::Gridap.MultiField.MultiFieldCellField{ReferenceDomain}, x::Gridap.CellData.CellPoint{ReferenceDomain, FillArrays.Fill{Vector{VectorValue{2, Float64}}, 1, Tuple{Base.OneTo{Int64}}}, Gridap.Arrays.LazyArray{FillArrays.Fill{Broadcasting{Reindex{Gridap.Geometry.CartesianCoordinates{2, Float64, typeof(identity)}}}, 2, Tuple{Base.OneTo{Int64}, Base.OneTo{Int64}}}, Vector{VectorValue{2, Float64}}, 2, Tuple{Gridap.Geometry.CartesianCellNodes{2}}}, Gridap.Geometry.BodyFittedTriangulation{2, 2, CartesianDiscreteModel{2, Float64, typeof(identity)}, CartesianGrid{2, Float64, typeof(identity)}, Gridap.Arrays.IdentityVector{Int64}, Gridap.Geometry.Injective}})",
      "    @ Gridap.CellData ~/.julia/packages/Gridap/aikpb/src/CellData/CellFields.jl:392",
      "  [5] evaluate",
      "    @ ~/.julia/packages/Gridap/aikpb/src/Arrays/Maps.jl:87 [inlined]",
      "  [6] CellField",
      "    @ ~/.julia/packages/Gridap/aikpb/src/CellData/CellFields.jl:388 [inlined]",
      "  [7] #11",
      "    @ ~/.julia/packages/Gridap/aikpb/src/CellData/CellFields.jl:482 [inlined]",
      "  [8] map(f::Gridap.CellData.var\"#11#13\"{Gridap.CellData.CellPoint{ReferenceDomain, FillArrays.Fill{Vector{VectorValue{2, Float64}}, 1, Tuple{Base.OneTo{Int64}}}, Gridap.Arrays.LazyArray{FillArrays.Fill{Broadcasting{Reindex{Gridap.Geometry.CartesianCoordinates{2, Float64, typeof(identity)}}}, 2, Tuple{Base.OneTo{Int64}, Base.OneTo{Int64}}}, Vector{VectorValue{2, Float64}}, 2, Tuple{Gridap.Geometry.CartesianCellNodes{2}}}, Gridap.Geometry.BodyFittedTriangulation{2, 2, CartesianDiscreteModel{2, Float64, typeof(identity)}, CartesianGrid{2, Float64, typeof(identity)}, Gridap.Arrays.IdentityVector{Int64}, Gridap.Geometry.Injective}}}, t::Tuple{Gridap.MultiField.MultiFieldCellField{ReferenceDomain}, Gridap.MultiField.MultiFieldCellField{ReferenceDomain}})",
      "    @ Base ./tuple.jl:356",
      "  [9] Gridap.CellData.OperationCellField(::Operation{typeof(*)}, ::Gridap.MultiField.MultiFieldCellField{ReferenceDomain}, ::Vararg{Gridap.MultiField.MultiFieldCellField{ReferenceDomain}})",
      "    @ Gridap.CellData ~/.julia/packages/Gridap/aikpb/src/CellData/CellFields.jl:482",
      " [10] _operate_cellfields(::Operation{typeof(*)}, ::Gridap.MultiField.MultiFieldCellField{ReferenceDomain}, ::Vararg{Gridap.MultiField.MultiFieldCellField{ReferenceDomain}})",
      "    @ Gridap.CellData ~/.julia/packages/Gridap/aikpb/src/CellData/CellFields.jl:549",
      " [11] evaluate!",
      "    @ ~/.julia/packages/Gridap/aikpb/src/CellData/CellFields.jl:442 [inlined]",
      " [12] evaluate",
      "    @ ~/.julia/packages/Gridap/aikpb/src/Arrays/Maps.jl:87 [inlined]",
      " [13] Map",
      "    @ ~/.julia/packages/Gridap/aikpb/src/Arrays/Maps.jl:90 [inlined]",
      " [14] *",
      "    @ ~/.julia/packages/Gridap/aikpb/src/CellData/CellFields.jl:629 [inlined]",
      " [15] m(t::Float64, dtu::Gridap.MultiField.MultiFieldCellField{ReferenceDomain}, v::Gridap.MultiField.MultiFieldCellField{ReferenceDomain})",
      "    @ Main ./In[10]:1",
      " [16] (::Gridap.ODEs.var\"#jac_N#105\"{typeof(m)})(t::Float64, u::Gridap.ODEs.TransientMultiFieldCellField{Gridap.MultiField.MultiFieldFEFunction{Gridap.MultiField.MultiFieldCellField{ReferenceDomain}}}, duN::Gridap.MultiField.MultiFieldCellField{ReferenceDomain}, v::Gridap.MultiField.MultiFieldCellField{ReferenceDomain})",
      "    @ Gridap.ODEs ~/.julia/packages/Gridap/aikpb/src/ODEs/TransientFEOperators.jl:610",
      " [17] allocate_odeopcache(odeop::Gridap.ODEs.ODEOpFromTFEOp{Gridap.ODEs.SemilinearODE}, t::Float64, us::Tuple{Vector{Float64}, Vector{Float64}})",
      "    @ Gridap.ODEs ~/.julia/packages/Gridap/aikpb/src/ODEs/ODEOpsFromTFEOps.jl:109",
      " [18] allocate_odecache(odeslvr::ThetaMethod, odeop::Gridap.ODEs.ODEOpFromTFEOp{Gridap.ODEs.SemilinearODE}, t0::Float64, us0::Tuple{Vector{Float64}})",
      "    @ Gridap.ODEs ~/.julia/packages/Gridap/aikpb/src/ODEs/ODESolvers/ThetaMethod.jl:50",
      " [19] iterate(odesltn::Gridap.ODEs.GenericODESolution)",
      "    @ Gridap.ODEs ~/.julia/packages/Gridap/aikpb/src/ODEs/ODESolutions.jl:60",
      " [20] iterate(tfesltn::Gridap.ODEs.GenericTransientFESolution)",
      "    @ Gridap.ODEs ~/.julia/packages/Gridap/aikpb/src/ODEs/TransientFESolutions.jl:75",
      " [21] top-level scope",
      "    @ ./In[39]:1"
     ]
    }
   ],
   "source": [
    "for (sl, t) in uh\n",
    "    \n",
    "end"
   ]
  },
  {
   "cell_type": "code",
   "execution_count": 26,
   "metadata": {},
   "outputs": [
    {
     "ename": "LoadError",
     "evalue": "This function belongs to an interface definition and cannot be used.",
     "output_type": "error",
     "traceback": [
      "This function belongs to an interface definition and cannot be used.",
      "",
      "Stacktrace:",
      "  [1] error(s::String)",
      "    @ Base ./error.jl:35",
      "  [2] macro expansion",
      "    @ ~/.julia/packages/Gridap/aikpb/src/Helpers/Macros.jl:9 [inlined]",
      "  [3] allocate_odecache(odeslvr::ThetaMethod, odeop::Gridap.ODEs.ODEOpFromTFEOp{Gridap.ODEs.SemilinearODE}, t0::Float64, us0::Tuple{Vector{Float64}, Vector{Float64}})",
      "    @ Gridap.ODEs ~/.julia/packages/Gridap/aikpb/src/ODEs/ODESolvers.jl:38",
      "  [4] iterate(odesltn::Gridap.ODEs.GenericODESolution)",
      "    @ Gridap.ODEs ~/.julia/packages/Gridap/aikpb/src/ODEs/ODESolutions.jl:60",
      "  [5] iterate(tfesltn::Gridap.ODEs.GenericTransientFESolution)",
      "    @ Gridap.ODEs ~/.julia/packages/Gridap/aikpb/src/ODEs/TransientFESolutions.jl:75",
      "  [6] (::var\"#39#40\")(pvd::WriteVTK.CollectionFile)",
      "    @ Main ./In[26]:8",
      "  [7] paraview_collection(f::var\"#39#40\", args::String; kwargs::@Kwargs{})",
      "    @ WriteVTK ~/.julia/packages/WriteVTK/RzquZ/src/WriteVTK.jl:217",
      "  [8] paraview_collection(f::Function, args::String)",
      "    @ WriteVTK ~/.julia/packages/WriteVTK/RzquZ/src/WriteVTK.jl:213",
      "  [9] #createpvd#26",
      "    @ ~/.julia/packages/Gridap/aikpb/src/Visualization/Vtk.jl:27 [inlined]",
      " [10] createpvd(::Function, ::String)",
      "    @ Gridap.Visualization ~/.julia/packages/Gridap/aikpb/src/Visualization/Vtk.jl:26",
      " [11] top-level scope",
      "    @ In[26]:5"
     ]
    }
   ],
   "source": []
  },
  {
   "cell_type": "code",
   "execution_count": null,
   "metadata": {},
   "outputs": [],
   "source": []
  },
  {
   "cell_type": "code",
   "execution_count": null,
   "metadata": {},
   "outputs": [],
   "source": []
  },
  {
   "cell_type": "code",
   "execution_count": null,
   "metadata": {},
   "outputs": [],
   "source": []
  },
  {
   "cell_type": "code",
   "execution_count": null,
   "metadata": {},
   "outputs": [],
   "source": []
  },
  {
   "cell_type": "code",
   "execution_count": null,
   "metadata": {},
   "outputs": [],
   "source": []
  },
  {
   "cell_type": "code",
   "execution_count": null,
   "metadata": {},
   "outputs": [],
   "source": []
  },
  {
   "cell_type": "code",
   "execution_count": null,
   "metadata": {},
   "outputs": [],
   "source": []
  },
  {
   "cell_type": "code",
   "execution_count": null,
   "metadata": {},
   "outputs": [],
   "source": []
  },
  {
   "cell_type": "code",
   "execution_count": null,
   "metadata": {},
   "outputs": [],
   "source": []
  },
  {
   "cell_type": "code",
   "execution_count": 95,
   "metadata": {},
   "outputs": [
    {
     "ename": "LoadError",
     "evalue": "invalid redefinition of constant Main.f",
     "output_type": "error",
     "traceback": [
      "invalid redefinition of constant Main.f",
      "",
      "Stacktrace:",
      " [1] top-level scope",
      "   @ In[95]:24"
     ]
    }
   ],
   "source": [
    "\n",
    "# using Gridap\n",
    "# using LinearAlgebra\n",
    "# using Test\n",
    "# using Gridap.ODEs, Gridap.Algebra\n",
    "# # using GridapDistributed\n",
    "# # using PartitionedArrays\n",
    "\n",
    "# # function main(distribute,parts)\n",
    "#   # ranks = distribute(LinearIndices((prod(parts),)))\n",
    "\n",
    "# θ = 0.5\n",
    "\n",
    "# ut(t) = x -> VectorValue(x[1],x[2])*t\n",
    "# u = TimeSpaceFunction(ut)\n",
    "\n",
    "# pt(t) = x -> (x[1]-x[2])*t\n",
    "# p = TimeSpaceFunction(pt)\n",
    "# q(x) = t -> p(t,x)\n",
    "\n",
    "# ft(t) = x -> ∂t(u)(t,x) - Δ(u)(t,x) + ∇(p)(t,x)\n",
    "# gt(t) = x -> (∇⋅u)(t,x)\n",
    "# ht(t) = x -> ∇(u)(t,x)⋅VectorValue(0.0,1.0) - p(t,x)*VectorValue(0.0,1.0)\n",
    "# f = TimeSpaceFunction(ft)\n",
    "# g = TimeSpaceFunction(gt)\n",
    "# h = TimeSpaceFunction(ht)\n",
    "\n",
    "# domain = (0,1,0,1)\n",
    "# partition = (4,4)\n",
    "# model = CartesianDiscreteModel(domain,partition)\n",
    "# labels = get_face_labeling(model)\n",
    "# add_tag_from_tags!(labels,\"neumann\",6)\n",
    "# add_tag_from_tags!(labels,\"dirichlet\",[1,2,3,4,5,7,8])\n",
    "\n",
    "# order = 2\n",
    "\n",
    "# reffeᵤ = ReferenceFE(lagrangian,VectorValue{2,Float64},order)\n",
    "# V0 = FESpace(\n",
    "#   model,\n",
    "#   reffeᵤ,\n",
    "#   conformity=:H1,\n",
    "#   dirichlet_tags=\"dirichlet\"\n",
    "# )\n",
    "\n",
    "# reffeₚ = ReferenceFE(lagrangian,Float64,order-1)\n",
    "# Q = TestFESpace(\n",
    "#   model,\n",
    "#   reffeₚ,\n",
    "#   conformity=:H1\n",
    "# )\n",
    "\n",
    "# U = TransientTrialFESpace(V0,u)\n",
    "\n",
    "# P = TrialFESpace(Q)\n",
    "\n",
    "# Ω = Triangulation(model)\n",
    "# degree = 2*order\n",
    "# dΩ = Measure(Ω,degree)\n",
    "\n",
    "# Γ = Boundary(model,tags=[\"neumann\"])\n",
    "# dΓ = Measure(Γ,degree)\n",
    "\n",
    "# #\n",
    "# a(t,u,v) = ∫(∇(u)⊙∇(v))dΩ\n",
    "# b(t,(v,q)) = ∫(v⋅f(t))dΩ + ∫(q*g(t))dΩ + ∫(v⋅h(t))dΓ\n",
    "# m(t,ut,v) = ∫(ut⋅v)dΩ\n",
    "\n",
    "# X = TransientMultiFieldFESpace([U,P])\n",
    "# Y = MultiFieldFESpace([V0,Q])\n",
    "\n",
    "# res(t,(u,p),(v,q)) = a(t,u,v) + m(t,∂t(u),v) - ∫((∇⋅v)*p)dΩ + ∫(q*(∇⋅u))dΩ - b(t,(v,q))\n",
    "# jac(t,(u,p),(du,dp),(v,q)) = a(t,du,v) - ∫((∇⋅v)*dp)dΩ + ∫(q*(∇⋅du))dΩ\n",
    "# jac_t(t,(u,p),(dut,dpt),(v,q)) = m(t,dut,v)\n",
    "\n",
    "# U0 = U(0.0)\n",
    "# P0 = P(0.0)\n",
    "# X0 = X(0.0)\n",
    "# uh0 = interpolate_everywhere(u(0.0),U0)\n",
    "# ph0 = interpolate_everywhere(p(0.0),P0)\n",
    "# xh0 = interpolate_everywhere([uh0,ph0],X0)\n",
    "\n",
    "# op = TransientFEOperator(res,(jac,jac_t),X,Y)\n",
    "\n",
    "# t0 = 0.0\n",
    "# tF = 1.0\n",
    "# dt = 0.1\n",
    "\n",
    "# ls  = LUSolver()\n",
    "# nls = NewtonRaphsonSolver(ls,1.0e-6,10)\n",
    "# ode_solver = ThetaMethod(nls,dt,θ)\n",
    "\n",
    "# sol_t = solve(ode_solver,op,t0,tF,xh0)\n",
    "\n",
    "# l2(w) = w⋅w\n",
    "# tol = 1.0e-6\n",
    "# for (tn, xh_tn) in sol_t\n",
    "#   uh_tn = xh_tn[1]\n",
    "#   ph_tn = xh_tn[2]\n",
    "#   #writevtk(Ω,\"output/tmp_stokes_OB_sol_$tn.vtu\",cellfields=[\"u\"=>uh_tn,\"p\"=>ph_tn])\n",
    "#   e = u(tn) - uh_tn\n",
    "#   el2 = sqrt(sum(∫(l2(e))dΩ))\n",
    "#   e = p(tn) - ph_tn\n",
    "#   el2 = sqrt(sum(∫(l2(e))dΩ))\n",
    "#   @test el2 < tol\n",
    "# end\n",
    "# # end\n",
    "\n",
    "# # end #module"
   ]
  },
  {
   "cell_type": "code",
   "execution_count": null,
   "metadata": {},
   "outputs": [],
   "source": []
  }
 ],
 "metadata": {
  "kernelspec": {
   "display_name": "Julia 1.11.0",
   "language": "julia",
   "name": "julia-1.11"
  },
  "language_info": {
   "file_extension": ".jl",
   "mimetype": "application/julia",
   "name": "julia",
   "version": "1.11.0"
  }
 },
 "nbformat": 4,
 "nbformat_minor": 2
}
